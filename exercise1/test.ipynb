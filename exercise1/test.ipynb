{
 "cells": [
  {
   "cell_type": "code",
   "id": "initial_id",
   "metadata": {
    "collapsed": true,
    "ExecuteTime": {
     "end_time": "2024-10-09T07:39:51.144751Z",
     "start_time": "2024-10-09T07:39:51.091243Z"
    }
   },
   "source": [
    "from exercise1.helpers import fetch_ticker_data\n",
    "\n",
    "data = fetch_ticker_data('AAPL', '2016-12-31', '2022-3-31')\n",
    "data.head(200)\n"
   ],
   "outputs": [
    {
     "name": "stderr",
     "output_type": "stream",
     "text": [
      "[*********************100%***********************]  1 of 1 completed\n"
     ]
    },
    {
     "data": {
      "text/plain": [
       "                 Open       High        Low      Close  Adj Close     Volume\n",
       "Date                                                                        \n",
       "2017-01-03  28.950001  29.082500  28.690001  29.037500  26.921549  115127600\n",
       "2017-01-04  28.962500  29.127501  28.937500  29.004999  26.891418   84472400\n",
       "2017-01-05  28.980000  29.215000  28.952499  29.152500  27.028168   88774400\n",
       "2017-01-06  29.195000  29.540001  29.117500  29.477501  27.329479  127007600\n",
       "2017-01-09  29.487499  29.857500  29.485001  29.747499  27.579811  134247600\n",
       "...               ...        ...        ...        ...        ...        ...\n",
       "2017-10-11  38.992500  39.244999  38.937500  39.137501  36.737011   67622400\n",
       "2017-10-12  39.087502  39.342499  38.932499  39.000000  36.607933   64500400\n",
       "2017-10-13  39.182499  39.320000  39.102501  39.247501  36.840256   65576800\n",
       "2017-10-16  39.474998  40.000000  39.412498  39.970001  37.518456   96486000\n",
       "2017-10-17  39.945000  40.217499  39.807499  40.117500  37.656895   75989200\n",
       "\n",
       "[200 rows x 6 columns]"
      ],
      "text/html": [
       "<div>\n",
       "<style scoped>\n",
       "    .dataframe tbody tr th:only-of-type {\n",
       "        vertical-align: middle;\n",
       "    }\n",
       "\n",
       "    .dataframe tbody tr th {\n",
       "        vertical-align: top;\n",
       "    }\n",
       "\n",
       "    .dataframe thead th {\n",
       "        text-align: right;\n",
       "    }\n",
       "</style>\n",
       "<table border=\"1\" class=\"dataframe\">\n",
       "  <thead>\n",
       "    <tr style=\"text-align: right;\">\n",
       "      <th></th>\n",
       "      <th>Open</th>\n",
       "      <th>High</th>\n",
       "      <th>Low</th>\n",
       "      <th>Close</th>\n",
       "      <th>Adj Close</th>\n",
       "      <th>Volume</th>\n",
       "    </tr>\n",
       "    <tr>\n",
       "      <th>Date</th>\n",
       "      <th></th>\n",
       "      <th></th>\n",
       "      <th></th>\n",
       "      <th></th>\n",
       "      <th></th>\n",
       "      <th></th>\n",
       "    </tr>\n",
       "  </thead>\n",
       "  <tbody>\n",
       "    <tr>\n",
       "      <th>2017-01-03</th>\n",
       "      <td>28.950001</td>\n",
       "      <td>29.082500</td>\n",
       "      <td>28.690001</td>\n",
       "      <td>29.037500</td>\n",
       "      <td>26.921549</td>\n",
       "      <td>115127600</td>\n",
       "    </tr>\n",
       "    <tr>\n",
       "      <th>2017-01-04</th>\n",
       "      <td>28.962500</td>\n",
       "      <td>29.127501</td>\n",
       "      <td>28.937500</td>\n",
       "      <td>29.004999</td>\n",
       "      <td>26.891418</td>\n",
       "      <td>84472400</td>\n",
       "    </tr>\n",
       "    <tr>\n",
       "      <th>2017-01-05</th>\n",
       "      <td>28.980000</td>\n",
       "      <td>29.215000</td>\n",
       "      <td>28.952499</td>\n",
       "      <td>29.152500</td>\n",
       "      <td>27.028168</td>\n",
       "      <td>88774400</td>\n",
       "    </tr>\n",
       "    <tr>\n",
       "      <th>2017-01-06</th>\n",
       "      <td>29.195000</td>\n",
       "      <td>29.540001</td>\n",
       "      <td>29.117500</td>\n",
       "      <td>29.477501</td>\n",
       "      <td>27.329479</td>\n",
       "      <td>127007600</td>\n",
       "    </tr>\n",
       "    <tr>\n",
       "      <th>2017-01-09</th>\n",
       "      <td>29.487499</td>\n",
       "      <td>29.857500</td>\n",
       "      <td>29.485001</td>\n",
       "      <td>29.747499</td>\n",
       "      <td>27.579811</td>\n",
       "      <td>134247600</td>\n",
       "    </tr>\n",
       "    <tr>\n",
       "      <th>...</th>\n",
       "      <td>...</td>\n",
       "      <td>...</td>\n",
       "      <td>...</td>\n",
       "      <td>...</td>\n",
       "      <td>...</td>\n",
       "      <td>...</td>\n",
       "    </tr>\n",
       "    <tr>\n",
       "      <th>2017-10-11</th>\n",
       "      <td>38.992500</td>\n",
       "      <td>39.244999</td>\n",
       "      <td>38.937500</td>\n",
       "      <td>39.137501</td>\n",
       "      <td>36.737011</td>\n",
       "      <td>67622400</td>\n",
       "    </tr>\n",
       "    <tr>\n",
       "      <th>2017-10-12</th>\n",
       "      <td>39.087502</td>\n",
       "      <td>39.342499</td>\n",
       "      <td>38.932499</td>\n",
       "      <td>39.000000</td>\n",
       "      <td>36.607933</td>\n",
       "      <td>64500400</td>\n",
       "    </tr>\n",
       "    <tr>\n",
       "      <th>2017-10-13</th>\n",
       "      <td>39.182499</td>\n",
       "      <td>39.320000</td>\n",
       "      <td>39.102501</td>\n",
       "      <td>39.247501</td>\n",
       "      <td>36.840256</td>\n",
       "      <td>65576800</td>\n",
       "    </tr>\n",
       "    <tr>\n",
       "      <th>2017-10-16</th>\n",
       "      <td>39.474998</td>\n",
       "      <td>40.000000</td>\n",
       "      <td>39.412498</td>\n",
       "      <td>39.970001</td>\n",
       "      <td>37.518456</td>\n",
       "      <td>96486000</td>\n",
       "    </tr>\n",
       "    <tr>\n",
       "      <th>2017-10-17</th>\n",
       "      <td>39.945000</td>\n",
       "      <td>40.217499</td>\n",
       "      <td>39.807499</td>\n",
       "      <td>40.117500</td>\n",
       "      <td>37.656895</td>\n",
       "      <td>75989200</td>\n",
       "    </tr>\n",
       "  </tbody>\n",
       "</table>\n",
       "<p>200 rows × 6 columns</p>\n",
       "</div>"
      ]
     },
     "execution_count": 5,
     "metadata": {},
     "output_type": "execute_result"
    }
   ],
   "execution_count": 5
  },
  {
   "metadata": {
    "ExecuteTime": {
     "end_time": "2024-10-09T11:28:40.770412Z",
     "start_time": "2024-10-09T11:28:40.657215Z"
    }
   },
   "cell_type": "code",
   "source": [
    "import yfinance as yf\n",
    "\n",
    "msft = yf.Ticker(\"gld\")\n",
    "\n",
    "# get all stock info\n",
    "msft.info"
   ],
   "id": "d75c2bce2ce27d4d",
   "outputs": [
    {
     "data": {
      "text/plain": [
       "{'longBusinessSummary': 'The Trust holds gold bars and from time to time, issues Baskets in exchange for deposits of gold and distributes gold in connection with redemptions of Baskets. The investment objective of the Trust is for the Shares to reflect the performance of the price of gold bullion, less the Trust’s expenses. The Sponsor believes that, for many investors, the Shares represent a cost-effective investment in gold.',\n",
       " 'maxAge': 86400,\n",
       " 'priceHint': 2,\n",
       " 'previousClose': 244.17,\n",
       " 'open': 243.79,\n",
       " 'dayLow': 240.6325,\n",
       " 'dayHigh': 244.04,\n",
       " 'regularMarketPreviousClose': 244.17,\n",
       " 'regularMarketOpen': 243.79,\n",
       " 'regularMarketDayLow': 240.6325,\n",
       " 'regularMarketDayHigh': 244.04,\n",
       " 'volume': 7369780,\n",
       " 'regularMarketVolume': 7369780,\n",
       " 'averageVolume': 6579104,\n",
       " 'averageVolume10days': 7022380,\n",
       " 'averageDailyVolume10Day': 7022380,\n",
       " 'bid': 242.06,\n",
       " 'ask': 242.2,\n",
       " 'bidSize': 1400,\n",
       " 'askSize': 1000,\n",
       " 'totalAssets': 73704144896,\n",
       " 'fiftyTwoWeekLow': 173.24,\n",
       " 'fiftyTwoWeekHigh': 247.37,\n",
       " 'fiftyDayAverage': 234.2028,\n",
       " 'twoHundredDayAverage': 213.24075,\n",
       " 'navPrice': 243.90561,\n",
       " 'currency': 'USD',\n",
       " 'category': 'Commodities Focused',\n",
       " 'ytdReturn': 0.2678244,\n",
       " 'beta3Year': 0.16,\n",
       " 'fundFamily': 'SPDR State Street Global Advisors',\n",
       " 'fundInceptionDate': 1100736000,\n",
       " 'legalType': 'Exchange Traded Fund',\n",
       " 'threeYearAverageReturn': 0.1385238,\n",
       " 'fiveYearAverageReturn': 0.1129792,\n",
       " 'exchange': 'PCX',\n",
       " 'quoteType': 'ETF',\n",
       " 'symbol': 'GLD',\n",
       " 'underlyingSymbol': 'GLD',\n",
       " 'shortName': 'SPDR Gold Trust',\n",
       " 'longName': 'SPDR Gold Shares',\n",
       " 'firstTradeDateEpochUtc': 1100788200,\n",
       " 'timeZoneFullName': 'America/New_York',\n",
       " 'timeZoneShortName': 'EDT',\n",
       " 'uuid': 'b8aa1c71-9a1e-30a9-98e6-c05878a4fef3',\n",
       " 'messageBoardId': 'finmb_5600649',\n",
       " 'gmtOffSetMilliseconds': -14400000,\n",
       " 'trailingPegRatio': None}"
      ]
     },
     "execution_count": 11,
     "metadata": {},
     "output_type": "execute_result"
    }
   ],
   "execution_count": 11
  },
  {
   "metadata": {
    "ExecuteTime": {
     "end_time": "2024-10-09T12:06:39.563312Z",
     "start_time": "2024-10-09T12:06:39.556308Z"
    }
   },
   "cell_type": "code",
   "source": "yf.Sector(msft.info.get('technology'))\n",
   "id": "483b3a8eb1ec9ba2",
   "outputs": [
    {
     "data": {
      "text/plain": [
       "yfinance.Sector object <None>"
      ]
     },
     "execution_count": 21,
     "metadata": {},
     "output_type": "execute_result"
    }
   ],
   "execution_count": 21
  },
  {
   "metadata": {},
   "cell_type": "code",
   "outputs": [],
   "execution_count": null,
   "source": "",
   "id": "878c67c06f40cd21"
  }
 ],
 "metadata": {
  "kernelspec": {
   "display_name": "Python 3",
   "language": "python",
   "name": "python3"
  },
  "language_info": {
   "codemirror_mode": {
    "name": "ipython",
    "version": 2
   },
   "file_extension": ".py",
   "mimetype": "text/x-python",
   "name": "python",
   "nbconvert_exporter": "python",
   "pygments_lexer": "ipython2",
   "version": "2.7.6"
  }
 },
 "nbformat": 4,
 "nbformat_minor": 5
}
